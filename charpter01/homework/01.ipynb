{
 "cells": [
  {
   "cell_type": "code",
   "execution_count": 1,
   "id": "cd2b168c-5416-48e0-b5ef-224762d9113a",
   "metadata": {},
   "outputs": [],
   "source": [
    "import pandas as pd\n",
    "import numpy as np\n",
    "import matplotlib.pyplot as plt\n",
    "%matplotlib inline\n",
    "\n",
    "import seaborn as sns # stylize the matplot output\n",
    "sns.set_style('white') # beautify the charts output"
   ]
  },
  {
   "cell_type": "markdown",
   "id": "5e94522a-1ada-48a2-bf98-00d569a82854",
   "metadata": {},
   "source": [
    "# 作业\n",
    "Python编程：学生成绩数据的处理和基本分析\n",
    "- 有60名学生的两个课程成绩的数据文件(文件名：`ReportCard1.txt，ReportCard2.txt`) 分别记录着学生的学号、性别以及不同课程的成绩。请将数据读入Pandas数据框，并做如下预处理和基本分析："
   ]
  },
  {
   "cell_type": "markdown",
   "id": "36bd30a6-df5a-47a4-ac53-107723182e56",
   "metadata": {},
   "source": [
    "### 将两个数据文件按学号合并为一个数据文件，得到包含所有课程成绩的数据文件"
   ]
  },
  {
   "cell_type": "code",
   "execution_count": 2,
   "id": "f854dbc8-68fb-4814-993e-10e32e1e791b",
   "metadata": {},
   "outputs": [
    {
     "name": "stdout",
     "output_type": "stream",
     "text": [
      "(60, 9)\n"
     ]
    },
    {
     "data": {
      "text/html": [
       "<div>\n",
       "<style scoped>\n",
       "    .dataframe tbody tr th:only-of-type {\n",
       "        vertical-align: middle;\n",
       "    }\n",
       "\n",
       "    .dataframe tbody tr th {\n",
       "        vertical-align: top;\n",
       "    }\n",
       "\n",
       "    .dataframe thead th {\n",
       "        text-align: right;\n",
       "    }\n",
       "</style>\n",
       "<table border=\"1\" class=\"dataframe\">\n",
       "  <thead>\n",
       "    <tr style=\"text-align: right;\">\n",
       "      <th></th>\n",
       "      <th>sex</th>\n",
       "      <th>poli</th>\n",
       "      <th>chi</th>\n",
       "      <th>math</th>\n",
       "      <th>fore</th>\n",
       "      <th>phy</th>\n",
       "      <th>che</th>\n",
       "      <th>geo</th>\n",
       "      <th>his</th>\n",
       "    </tr>\n",
       "    <tr>\n",
       "      <th>xh</th>\n",
       "      <th></th>\n",
       "      <th></th>\n",
       "      <th></th>\n",
       "      <th></th>\n",
       "      <th></th>\n",
       "      <th></th>\n",
       "      <th></th>\n",
       "      <th></th>\n",
       "      <th></th>\n",
       "    </tr>\n",
       "  </thead>\n",
       "  <tbody>\n",
       "    <tr>\n",
       "      <th>92103</th>\n",
       "      <td>2</td>\n",
       "      <td>NaN</td>\n",
       "      <td>NaN</td>\n",
       "      <td>NaN</td>\n",
       "      <td>66.0</td>\n",
       "      <td>98.0</td>\n",
       "      <td>79.0</td>\n",
       "      <td>89.0</td>\n",
       "      <td>81.0</td>\n",
       "    </tr>\n",
       "    <tr>\n",
       "      <th>92239</th>\n",
       "      <td>2</td>\n",
       "      <td>40.0</td>\n",
       "      <td>63.0</td>\n",
       "      <td>44.0</td>\n",
       "      <td>21.0</td>\n",
       "      <td>54.0</td>\n",
       "      <td>26.0</td>\n",
       "      <td>26.0</td>\n",
       "      <td>55.0</td>\n",
       "    </tr>\n",
       "    <tr>\n",
       "      <th>92142</th>\n",
       "      <td>2</td>\n",
       "      <td>NaN</td>\n",
       "      <td>70.0</td>\n",
       "      <td>59.0</td>\n",
       "      <td>22.0</td>\n",
       "      <td>68.0</td>\n",
       "      <td>26.0</td>\n",
       "      <td>26.0</td>\n",
       "      <td>63.0</td>\n",
       "    </tr>\n",
       "    <tr>\n",
       "      <th>92223</th>\n",
       "      <td>1</td>\n",
       "      <td>56.0</td>\n",
       "      <td>91.0</td>\n",
       "      <td>65.5</td>\n",
       "      <td>68.0</td>\n",
       "      <td>77.0</td>\n",
       "      <td>39.0</td>\n",
       "      <td>54.5</td>\n",
       "      <td>63.0</td>\n",
       "    </tr>\n",
       "    <tr>\n",
       "      <th>92144</th>\n",
       "      <td>1</td>\n",
       "      <td>59.0</td>\n",
       "      <td>79.0</td>\n",
       "      <td>34.0</td>\n",
       "      <td>34.0</td>\n",
       "      <td>57.0</td>\n",
       "      <td>37.0</td>\n",
       "      <td>37.0</td>\n",
       "      <td>76.0</td>\n",
       "    </tr>\n",
       "  </tbody>\n",
       "</table>\n",
       "</div>"
      ],
      "text/plain": [
       "       sex  poli   chi  math  fore   phy   che   geo   his\n",
       "xh                                                        \n",
       "92103    2   NaN   NaN   NaN  66.0  98.0  79.0  89.0  81.0\n",
       "92239    2  40.0  63.0  44.0  21.0  54.0  26.0  26.0  55.0\n",
       "92142    2   NaN  70.0  59.0  22.0  68.0  26.0  26.0  63.0\n",
       "92223    1  56.0  91.0  65.5  68.0  77.0  39.0  54.5  63.0\n",
       "92144    1  59.0  79.0  34.0  34.0  57.0  37.0  37.0  76.0"
      ]
     },
     "execution_count": 2,
     "metadata": {},
     "output_type": "execute_result"
    }
   ],
   "source": [
    "df = pd.concat([\n",
    "    pd.read_csv(f\"data/ReportCard{sn}.txt\", delimiter='\\t', index_col='xh') \n",
    "    for sn in range(1, 3)\n",
    "], axis=1)\n",
    "\n",
    "df['sex'] = df.sex.astype(int) # convert sex number as integer\n",
    "print(df.shape)\n",
    "df.head()"
   ]
  },
  {
   "cell_type": "markdown",
   "id": "0c609f36-3061-48cb-9103-1fe39a517186",
   "metadata": {},
   "source": [
    "### 计算每个同学的各门课程的总成绩和平均成绩\n",
    "> 由于有missing values, 这里总成绩和平均成绩均不计算无成绩学科"
   ]
  },
  {
   "cell_type": "code",
   "execution_count": 3,
   "id": "cdebbdd0-9bc0-4d28-8145-6df27fbd672c",
   "metadata": {},
   "outputs": [
    {
     "name": "stdout",
     "output_type": "stream",
     "text": [
      "Index(['poli', 'chi', 'math', 'fore', 'phy', 'che', 'geo', 'his'], dtype='object')\n"
     ]
    },
    {
     "data": {
      "text/html": [
       "<div>\n",
       "<style scoped>\n",
       "    .dataframe tbody tr th:only-of-type {\n",
       "        vertical-align: middle;\n",
       "    }\n",
       "\n",
       "    .dataframe tbody tr th {\n",
       "        vertical-align: top;\n",
       "    }\n",
       "\n",
       "    .dataframe thead th {\n",
       "        text-align: right;\n",
       "    }\n",
       "</style>\n",
       "<table border=\"1\" class=\"dataframe\">\n",
       "  <thead>\n",
       "    <tr style=\"text-align: right;\">\n",
       "      <th></th>\n",
       "      <th>sex</th>\n",
       "      <th>poli</th>\n",
       "      <th>chi</th>\n",
       "      <th>math</th>\n",
       "      <th>fore</th>\n",
       "      <th>phy</th>\n",
       "      <th>che</th>\n",
       "      <th>geo</th>\n",
       "      <th>his</th>\n",
       "      <th>total</th>\n",
       "      <th>average</th>\n",
       "    </tr>\n",
       "    <tr>\n",
       "      <th>xh</th>\n",
       "      <th></th>\n",
       "      <th></th>\n",
       "      <th></th>\n",
       "      <th></th>\n",
       "      <th></th>\n",
       "      <th></th>\n",
       "      <th></th>\n",
       "      <th></th>\n",
       "      <th></th>\n",
       "      <th></th>\n",
       "      <th></th>\n",
       "    </tr>\n",
       "  </thead>\n",
       "  <tbody>\n",
       "    <tr>\n",
       "      <th>92208</th>\n",
       "      <td>1</td>\n",
       "      <td>91.0</td>\n",
       "      <td>88.0</td>\n",
       "      <td>63.0</td>\n",
       "      <td>48.0</td>\n",
       "      <td>75.0</td>\n",
       "      <td>54.0</td>\n",
       "      <td>76.0</td>\n",
       "      <td>95.0</td>\n",
       "      <td>590.0</td>\n",
       "      <td>73.7500</td>\n",
       "    </tr>\n",
       "    <tr>\n",
       "      <th>92135</th>\n",
       "      <td>1</td>\n",
       "      <td>91.0</td>\n",
       "      <td>77.0</td>\n",
       "      <td>47.0</td>\n",
       "      <td>44.0</td>\n",
       "      <td>58.0</td>\n",
       "      <td>44.0</td>\n",
       "      <td>62.0</td>\n",
       "      <td>80.0</td>\n",
       "      <td>503.0</td>\n",
       "      <td>62.8750</td>\n",
       "    </tr>\n",
       "    <tr>\n",
       "      <th>92110</th>\n",
       "      <td>1</td>\n",
       "      <td>92.0</td>\n",
       "      <td>94.0</td>\n",
       "      <td>71.0</td>\n",
       "      <td>65.0</td>\n",
       "      <td>78.0</td>\n",
       "      <td>62.0</td>\n",
       "      <td>83.0</td>\n",
       "      <td>87.0</td>\n",
       "      <td>632.0</td>\n",
       "      <td>79.0000</td>\n",
       "    </tr>\n",
       "    <tr>\n",
       "      <th>92102</th>\n",
       "      <td>1</td>\n",
       "      <td>94.0</td>\n",
       "      <td>97.0</td>\n",
       "      <td>86.5</td>\n",
       "      <td>61.0</td>\n",
       "      <td>93.0</td>\n",
       "      <td>64.0</td>\n",
       "      <td>79.5</td>\n",
       "      <td>95.0</td>\n",
       "      <td>670.0</td>\n",
       "      <td>83.7500</td>\n",
       "    </tr>\n",
       "    <tr>\n",
       "      <th>92101</th>\n",
       "      <td>2</td>\n",
       "      <td>96.0</td>\n",
       "      <td>96.0</td>\n",
       "      <td>87.5</td>\n",
       "      <td>72.0</td>\n",
       "      <td>93.0</td>\n",
       "      <td>65.0</td>\n",
       "      <td>76.0</td>\n",
       "      <td>92.0</td>\n",
       "      <td>677.5</td>\n",
       "      <td>84.6875</td>\n",
       "    </tr>\n",
       "  </tbody>\n",
       "</table>\n",
       "</div>"
      ],
      "text/plain": [
       "       sex  poli   chi  math  fore   phy   che   geo   his  total  average\n",
       "xh                                                                        \n",
       "92208    1  91.0  88.0  63.0  48.0  75.0  54.0  76.0  95.0  590.0  73.7500\n",
       "92135    1  91.0  77.0  47.0  44.0  58.0  44.0  62.0  80.0  503.0  62.8750\n",
       "92110    1  92.0  94.0  71.0  65.0  78.0  62.0  83.0  87.0  632.0  79.0000\n",
       "92102    1  94.0  97.0  86.5  61.0  93.0  64.0  79.5  95.0  670.0  83.7500\n",
       "92101    2  96.0  96.0  87.5  72.0  93.0  65.0  76.0  92.0  677.5  84.6875"
      ]
     },
     "execution_count": 3,
     "metadata": {},
     "output_type": "execute_result"
    }
   ],
   "source": [
    "subjects = df.columns[1:] # subjects title\n",
    "print(subjects)\n",
    "df['total'] = df[subjects].sum(axis=1)\n",
    "df['average'] = df[subjects].mean(axis=1)\n",
    "df.tail()"
   ]
  },
  {
   "cell_type": "markdown",
   "id": "c5e8d2a0-b4ec-47da-9afd-2ac351d1aba2",
   "metadata": {},
   "source": [
    " ### 将数据按总成绩的降序排序"
   ]
  },
  {
   "cell_type": "code",
   "execution_count": 4,
   "id": "c95788a1-483d-4084-9e5d-77a02fdfa34c",
   "metadata": {},
   "outputs": [
    {
     "data": {
      "text/html": [
       "<div>\n",
       "<style scoped>\n",
       "    .dataframe tbody tr th:only-of-type {\n",
       "        vertical-align: middle;\n",
       "    }\n",
       "\n",
       "    .dataframe tbody tr th {\n",
       "        vertical-align: top;\n",
       "    }\n",
       "\n",
       "    .dataframe thead th {\n",
       "        text-align: right;\n",
       "    }\n",
       "</style>\n",
       "<table border=\"1\" class=\"dataframe\">\n",
       "  <thead>\n",
       "    <tr style=\"text-align: right;\">\n",
       "      <th></th>\n",
       "      <th>sex</th>\n",
       "      <th>poli</th>\n",
       "      <th>chi</th>\n",
       "      <th>math</th>\n",
       "      <th>fore</th>\n",
       "      <th>phy</th>\n",
       "      <th>che</th>\n",
       "      <th>geo</th>\n",
       "      <th>his</th>\n",
       "      <th>total</th>\n",
       "      <th>average</th>\n",
       "    </tr>\n",
       "    <tr>\n",
       "      <th>xh</th>\n",
       "      <th></th>\n",
       "      <th></th>\n",
       "      <th></th>\n",
       "      <th></th>\n",
       "      <th></th>\n",
       "      <th></th>\n",
       "      <th></th>\n",
       "      <th></th>\n",
       "      <th></th>\n",
       "      <th></th>\n",
       "      <th></th>\n",
       "    </tr>\n",
       "  </thead>\n",
       "  <tbody>\n",
       "    <tr>\n",
       "      <th>92101</th>\n",
       "      <td>2</td>\n",
       "      <td>96.0</td>\n",
       "      <td>96.0</td>\n",
       "      <td>87.5</td>\n",
       "      <td>72.0</td>\n",
       "      <td>93.0</td>\n",
       "      <td>65.0</td>\n",
       "      <td>76.0</td>\n",
       "      <td>92.0</td>\n",
       "      <td>677.5</td>\n",
       "      <td>84.6875</td>\n",
       "    </tr>\n",
       "    <tr>\n",
       "      <th>92202</th>\n",
       "      <td>1</td>\n",
       "      <td>78.0</td>\n",
       "      <td>89.0</td>\n",
       "      <td>83.5</td>\n",
       "      <td>81.0</td>\n",
       "      <td>91.0</td>\n",
       "      <td>77.0</td>\n",
       "      <td>81.0</td>\n",
       "      <td>93.0</td>\n",
       "      <td>673.5</td>\n",
       "      <td>84.1875</td>\n",
       "    </tr>\n",
       "    <tr>\n",
       "      <th>92102</th>\n",
       "      <td>1</td>\n",
       "      <td>94.0</td>\n",
       "      <td>97.0</td>\n",
       "      <td>86.5</td>\n",
       "      <td>61.0</td>\n",
       "      <td>93.0</td>\n",
       "      <td>64.0</td>\n",
       "      <td>79.5</td>\n",
       "      <td>95.0</td>\n",
       "      <td>670.0</td>\n",
       "      <td>83.7500</td>\n",
       "    </tr>\n",
       "    <tr>\n",
       "      <th>92104</th>\n",
       "      <td>2</td>\n",
       "      <td>89.0</td>\n",
       "      <td>97.0</td>\n",
       "      <td>69.5</td>\n",
       "      <td>86.0</td>\n",
       "      <td>83.0</td>\n",
       "      <td>62.0</td>\n",
       "      <td>83.0</td>\n",
       "      <td>94.0</td>\n",
       "      <td>663.5</td>\n",
       "      <td>82.9375</td>\n",
       "    </tr>\n",
       "    <tr>\n",
       "      <th>92203</th>\n",
       "      <td>2</td>\n",
       "      <td>74.0</td>\n",
       "      <td>93.0</td>\n",
       "      <td>84.5</td>\n",
       "      <td>50.0</td>\n",
       "      <td>89.0</td>\n",
       "      <td>72.0</td>\n",
       "      <td>82.5</td>\n",
       "      <td>92.0</td>\n",
       "      <td>637.0</td>\n",
       "      <td>79.6250</td>\n",
       "    </tr>\n",
       "  </tbody>\n",
       "</table>\n",
       "</div>"
      ],
      "text/plain": [
       "       sex  poli   chi  math  fore   phy   che   geo   his  total  average\n",
       "xh                                                                        \n",
       "92101    2  96.0  96.0  87.5  72.0  93.0  65.0  76.0  92.0  677.5  84.6875\n",
       "92202    1  78.0  89.0  83.5  81.0  91.0  77.0  81.0  93.0  673.5  84.1875\n",
       "92102    1  94.0  97.0  86.5  61.0  93.0  64.0  79.5  95.0  670.0  83.7500\n",
       "92104    2  89.0  97.0  69.5  86.0  83.0  62.0  83.0  94.0  663.5  82.9375\n",
       "92203    2  74.0  93.0  84.5  50.0  89.0  72.0  82.5  92.0  637.0  79.6250"
      ]
     },
     "execution_count": 4,
     "metadata": {},
     "output_type": "execute_result"
    }
   ],
   "source": [
    "df = df.sort_values(by='total', ascending=False)\n",
    "df.head()"
   ]
  },
  {
   "cell_type": "markdown",
   "id": "029fd8d8-79e3-4671-b4ba-fb35d438ce7c",
   "metadata": {},
   "source": [
    "### 按性别分别计算各门课程的平均成绩"
   ]
  },
  {
   "cell_type": "code",
   "execution_count": 5,
   "id": "bfee331a-a434-4af2-b27d-7145d03453c8",
   "metadata": {},
   "outputs": [
    {
     "data": {
      "text/html": [
       "<div>\n",
       "<style scoped>\n",
       "    .dataframe tbody tr th:only-of-type {\n",
       "        vertical-align: middle;\n",
       "    }\n",
       "\n",
       "    .dataframe tbody tr th {\n",
       "        vertical-align: top;\n",
       "    }\n",
       "\n",
       "    .dataframe thead th {\n",
       "        text-align: right;\n",
       "    }\n",
       "</style>\n",
       "<table border=\"1\" class=\"dataframe\">\n",
       "  <thead>\n",
       "    <tr style=\"text-align: right;\">\n",
       "      <th></th>\n",
       "      <th>poli</th>\n",
       "      <th>chi</th>\n",
       "      <th>math</th>\n",
       "      <th>fore</th>\n",
       "      <th>phy</th>\n",
       "      <th>che</th>\n",
       "      <th>geo</th>\n",
       "      <th>his</th>\n",
       "    </tr>\n",
       "    <tr>\n",
       "      <th>sex</th>\n",
       "      <th></th>\n",
       "      <th></th>\n",
       "      <th></th>\n",
       "      <th></th>\n",
       "      <th></th>\n",
       "      <th></th>\n",
       "      <th></th>\n",
       "      <th></th>\n",
       "    </tr>\n",
       "  </thead>\n",
       "  <tbody>\n",
       "    <tr>\n",
       "      <th>1</th>\n",
       "      <td>78.866667</td>\n",
       "      <td>83.500000</td>\n",
       "      <td>60.033333</td>\n",
       "      <td>51.200000</td>\n",
       "      <td>72.733333</td>\n",
       "      <td>52.366667</td>\n",
       "      <td>62.533333</td>\n",
       "      <td>78.933333</td>\n",
       "    </tr>\n",
       "    <tr>\n",
       "      <th>2</th>\n",
       "      <td>80.464286</td>\n",
       "      <td>83.051724</td>\n",
       "      <td>62.344828</td>\n",
       "      <td>48.633333</td>\n",
       "      <td>77.666667</td>\n",
       "      <td>55.800000</td>\n",
       "      <td>67.950000</td>\n",
       "      <td>78.433333</td>\n",
       "    </tr>\n",
       "  </tbody>\n",
       "</table>\n",
       "</div>"
      ],
      "text/plain": [
       "          poli        chi       math       fore        phy        che  \\\n",
       "sex                                                                     \n",
       "1    78.866667  83.500000  60.033333  51.200000  72.733333  52.366667   \n",
       "2    80.464286  83.051724  62.344828  48.633333  77.666667  55.800000   \n",
       "\n",
       "           geo        his  \n",
       "sex                        \n",
       "1    62.533333  78.933333  \n",
       "2    67.950000  78.433333  "
      ]
     },
     "execution_count": 5,
     "metadata": {},
     "output_type": "execute_result"
    }
   ],
   "source": [
    "df.groupby('sex')[subjects].mean()"
   ]
  },
  {
   "cell_type": "markdown",
   "id": "ee5a0539-54f3-4215-843a-432b2a71aa5e",
   "metadata": {},
   "source": [
    "# 按优、良、中、及格和不及格，对平均成绩进行分组"
   ]
  },
  {
   "cell_type": "code",
   "execution_count": 6,
   "id": "cb8e9dfb-e22d-48aa-9c1b-d71f9ac7eed3",
   "metadata": {},
   "outputs": [
    {
     "data": {
      "text/plain": [
       "中      24\n",
       "及格     22\n",
       "不及格     9\n",
       "良       5\n",
       "Name: category, dtype: int64"
      ]
     },
     "execution_count": 6,
     "metadata": {},
     "output_type": "execute_result"
    }
   ],
   "source": [
    "# method 1\n",
    "df['category'] = '不及格'\n",
    "df.loc[df.average>=60, 'category'] = '及格'\n",
    "df.loc[df.average>=70, 'category'] = '中'\n",
    "df.loc[df.average>=80, 'category'] = '良'\n",
    "df.loc[df.average>=90, 'category'] = '优'\n",
    "df.category.value_counts()"
   ]
  },
  {
   "cell_type": "code",
   "execution_count": 7,
   "id": "89300f18-530e-4f27-b762-6e3616331c7a",
   "metadata": {},
   "outputs": [
    {
     "data": {
      "text/plain": [
       "及格     23\n",
       "中      23\n",
       "不及格     9\n",
       "良       5\n",
       "优       0\n",
       "Name: average, dtype: int64"
      ]
     },
     "execution_count": 7,
     "metadata": {},
     "output_type": "execute_result"
    }
   ],
   "source": [
    "# method 2\n",
    "pd.cut(\n",
    "    x=df.average, \n",
    "    bins=[0, 60, 70, 80, 90, np.inf], \n",
    "    labels=['不及格', '及格', '中', '良', '优']\n",
    ").value_counts()"
   ]
  },
  {
   "cell_type": "code",
   "execution_count": 8,
   "id": "328a8973-5e63-4f1e-aa6a-050e9dabe403",
   "metadata": {},
   "outputs": [
    {
     "data": {
      "text/html": [
       "<div>\n",
       "<style scoped>\n",
       "    .dataframe tbody tr th:only-of-type {\n",
       "        vertical-align: middle;\n",
       "    }\n",
       "\n",
       "    .dataframe tbody tr th {\n",
       "        vertical-align: top;\n",
       "    }\n",
       "\n",
       "    .dataframe thead th {\n",
       "        text-align: right;\n",
       "    }\n",
       "</style>\n",
       "<table border=\"1\" class=\"dataframe\">\n",
       "  <thead>\n",
       "    <tr style=\"text-align: right;\">\n",
       "      <th>category</th>\n",
       "      <th>不及格</th>\n",
       "      <th>中</th>\n",
       "      <th>及格</th>\n",
       "      <th>良</th>\n",
       "      <th>All</th>\n",
       "    </tr>\n",
       "    <tr>\n",
       "      <th>sex</th>\n",
       "      <th></th>\n",
       "      <th></th>\n",
       "      <th></th>\n",
       "      <th></th>\n",
       "      <th></th>\n",
       "    </tr>\n",
       "  </thead>\n",
       "  <tbody>\n",
       "    <tr>\n",
       "      <th>1</th>\n",
       "      <td>5</td>\n",
       "      <td>11</td>\n",
       "      <td>12</td>\n",
       "      <td>2</td>\n",
       "      <td>30</td>\n",
       "    </tr>\n",
       "    <tr>\n",
       "      <th>2</th>\n",
       "      <td>4</td>\n",
       "      <td>13</td>\n",
       "      <td>10</td>\n",
       "      <td>3</td>\n",
       "      <td>30</td>\n",
       "    </tr>\n",
       "    <tr>\n",
       "      <th>All</th>\n",
       "      <td>9</td>\n",
       "      <td>24</td>\n",
       "      <td>22</td>\n",
       "      <td>5</td>\n",
       "      <td>60</td>\n",
       "    </tr>\n",
       "  </tbody>\n",
       "</table>\n",
       "</div>"
      ],
      "text/plain": [
       "category  不及格   中  及格  良  All\n",
       "sex                          \n",
       "1           5  11  12  2   30\n",
       "2           4  13  10  3   30\n",
       "All         9  24  22  5   60"
      ]
     },
     "execution_count": 8,
     "metadata": {},
     "output_type": "execute_result"
    }
   ],
   "source": [
    "# 按性别统计优、良、中、及格和不及格的人数\n",
    "# method 1\n",
    "df.pivot_table(\n",
    "    index='sex', columns='category', values='total',\n",
    "    aggfunc='count', margins=True\n",
    ")"
   ]
  },
  {
   "cell_type": "code",
   "execution_count": 9,
   "id": "c2bfdc2f-ef7d-46e9-8a6b-cbf6b55e0169",
   "metadata": {},
   "outputs": [
    {
     "name": "stdout",
     "output_type": "stream",
     "text": [
      "sex: 2\n",
      " 中      13\n",
      "及格     10\n",
      "不及格     4\n",
      "良       3\n",
      "Name: category, dtype: int64\n",
      "sex: 1\n",
      " 及格     12\n",
      "中      11\n",
      "不及格     5\n",
      "良       2\n",
      "Name: category, dtype: int64\n"
     ]
    }
   ],
   "source": [
    "# method 2\n",
    "for sex in df.sex.unique():\n",
    "    print(f\"sex: {sex}\\n\", df[df.sex==sex].category.value_counts())"
   ]
  },
  {
   "cell_type": "markdown",
   "id": "148e4948-5baa-4ecd-a1cc-52e9c8bf00a3",
   "metadata": {},
   "source": [
    "### 生成性别的虚拟自变量"
   ]
  },
  {
   "cell_type": "code",
   "execution_count": 10,
   "id": "16db1bbe-30ac-4734-8173-87126aa3155b",
   "metadata": {},
   "outputs": [
    {
     "data": {
      "text/html": [
       "<div>\n",
       "<style scoped>\n",
       "    .dataframe tbody tr th:only-of-type {\n",
       "        vertical-align: middle;\n",
       "    }\n",
       "\n",
       "    .dataframe tbody tr th {\n",
       "        vertical-align: top;\n",
       "    }\n",
       "\n",
       "    .dataframe thead th {\n",
       "        text-align: right;\n",
       "    }\n",
       "</style>\n",
       "<table border=\"1\" class=\"dataframe\">\n",
       "  <thead>\n",
       "    <tr style=\"text-align: right;\">\n",
       "      <th></th>\n",
       "      <th>sex</th>\n",
       "      <th>poli</th>\n",
       "      <th>chi</th>\n",
       "      <th>math</th>\n",
       "      <th>fore</th>\n",
       "      <th>phy</th>\n",
       "      <th>che</th>\n",
       "      <th>geo</th>\n",
       "      <th>his</th>\n",
       "      <th>total</th>\n",
       "      <th>average</th>\n",
       "      <th>category</th>\n",
       "      <th>sex__1</th>\n",
       "      <th>sex__2</th>\n",
       "    </tr>\n",
       "    <tr>\n",
       "      <th>xh</th>\n",
       "      <th></th>\n",
       "      <th></th>\n",
       "      <th></th>\n",
       "      <th></th>\n",
       "      <th></th>\n",
       "      <th></th>\n",
       "      <th></th>\n",
       "      <th></th>\n",
       "      <th></th>\n",
       "      <th></th>\n",
       "      <th></th>\n",
       "      <th></th>\n",
       "      <th></th>\n",
       "      <th></th>\n",
       "    </tr>\n",
       "  </thead>\n",
       "  <tbody>\n",
       "    <tr>\n",
       "      <th>92101</th>\n",
       "      <td>2</td>\n",
       "      <td>96.0</td>\n",
       "      <td>96.0</td>\n",
       "      <td>87.5</td>\n",
       "      <td>72.0</td>\n",
       "      <td>93.0</td>\n",
       "      <td>65.0</td>\n",
       "      <td>76.0</td>\n",
       "      <td>92.0</td>\n",
       "      <td>677.5</td>\n",
       "      <td>84.6875</td>\n",
       "      <td>良</td>\n",
       "      <td>0</td>\n",
       "      <td>1</td>\n",
       "    </tr>\n",
       "    <tr>\n",
       "      <th>92202</th>\n",
       "      <td>1</td>\n",
       "      <td>78.0</td>\n",
       "      <td>89.0</td>\n",
       "      <td>83.5</td>\n",
       "      <td>81.0</td>\n",
       "      <td>91.0</td>\n",
       "      <td>77.0</td>\n",
       "      <td>81.0</td>\n",
       "      <td>93.0</td>\n",
       "      <td>673.5</td>\n",
       "      <td>84.1875</td>\n",
       "      <td>良</td>\n",
       "      <td>1</td>\n",
       "      <td>0</td>\n",
       "    </tr>\n",
       "    <tr>\n",
       "      <th>92102</th>\n",
       "      <td>1</td>\n",
       "      <td>94.0</td>\n",
       "      <td>97.0</td>\n",
       "      <td>86.5</td>\n",
       "      <td>61.0</td>\n",
       "      <td>93.0</td>\n",
       "      <td>64.0</td>\n",
       "      <td>79.5</td>\n",
       "      <td>95.0</td>\n",
       "      <td>670.0</td>\n",
       "      <td>83.7500</td>\n",
       "      <td>良</td>\n",
       "      <td>1</td>\n",
       "      <td>0</td>\n",
       "    </tr>\n",
       "    <tr>\n",
       "      <th>92104</th>\n",
       "      <td>2</td>\n",
       "      <td>89.0</td>\n",
       "      <td>97.0</td>\n",
       "      <td>69.5</td>\n",
       "      <td>86.0</td>\n",
       "      <td>83.0</td>\n",
       "      <td>62.0</td>\n",
       "      <td>83.0</td>\n",
       "      <td>94.0</td>\n",
       "      <td>663.5</td>\n",
       "      <td>82.9375</td>\n",
       "      <td>良</td>\n",
       "      <td>0</td>\n",
       "      <td>1</td>\n",
       "    </tr>\n",
       "    <tr>\n",
       "      <th>92203</th>\n",
       "      <td>2</td>\n",
       "      <td>74.0</td>\n",
       "      <td>93.0</td>\n",
       "      <td>84.5</td>\n",
       "      <td>50.0</td>\n",
       "      <td>89.0</td>\n",
       "      <td>72.0</td>\n",
       "      <td>82.5</td>\n",
       "      <td>92.0</td>\n",
       "      <td>637.0</td>\n",
       "      <td>79.6250</td>\n",
       "      <td>中</td>\n",
       "      <td>0</td>\n",
       "      <td>1</td>\n",
       "    </tr>\n",
       "  </tbody>\n",
       "</table>\n",
       "</div>"
      ],
      "text/plain": [
       "       sex  poli   chi  math  fore   phy   che   geo   his  total  average  \\\n",
       "xh                                                                           \n",
       "92101    2  96.0  96.0  87.5  72.0  93.0  65.0  76.0  92.0  677.5  84.6875   \n",
       "92202    1  78.0  89.0  83.5  81.0  91.0  77.0  81.0  93.0  673.5  84.1875   \n",
       "92102    1  94.0  97.0  86.5  61.0  93.0  64.0  79.5  95.0  670.0  83.7500   \n",
       "92104    2  89.0  97.0  69.5  86.0  83.0  62.0  83.0  94.0  663.5  82.9375   \n",
       "92203    2  74.0  93.0  84.5  50.0  89.0  72.0  82.5  92.0  637.0  79.6250   \n",
       "\n",
       "      category  sex__1  sex__2  \n",
       "xh                              \n",
       "92101        良       0       1  \n",
       "92202        良       1       0  \n",
       "92102        良       1       0  \n",
       "92104        良       0       1  \n",
       "92203        中       0       1  "
      ]
     },
     "execution_count": 10,
     "metadata": {},
     "output_type": "execute_result"
    }
   ],
   "source": [
    "df.join(pd.get_dummies(df.sex, prefix=\"sex_\")).head()"
   ]
  },
  {
   "cell_type": "markdown",
   "id": "5d20802e-1f79-4ea8-aac2-3b7e34c58fd5",
   "metadata": {},
   "source": [
    " ### 学生成绩数据的图形化展示：对包含所有课程成绩的数据文件，做如下图形化展示："
   ]
  },
  {
   "cell_type": "markdown",
   "id": "c2efc1f4-6ecb-494e-90d4-e20e4f66b10c",
   "metadata": {},
   "source": [
    "#### 绘制总成绩的直方图"
   ]
  },
  {
   "cell_type": "code",
   "execution_count": 11,
   "id": "ac251422-7757-4b95-890f-713a649dd5dd",
   "metadata": {},
   "outputs": [
    {
     "data": {
      "image/png": "[encoded data removed]",
      "text/plain": [
       "<Figure size 640x480 with 1 Axes>"
      ]
     },
     "metadata": {},
     "output_type": "display_data"
    }
   ],
   "source": [
    "plt.rcParams['font.sans-serif']=['SimHei']\n",
    "plt.hist(df.total)\n",
    "plt.title('总成绩的直方图')\n",
    "plt.show()"
   ]
  },
  {
   "cell_type": "code",
   "execution_count": 12,
   "id": "215007ce-afc9-4c89-97b5-cb5d29bfac8c",
   "metadata": {},
   "outputs": [
    {
     "data": {
      "image/png": "[encoded data removed]",
      "text/plain": [
       "<Figure size 500x500 with 1 Axes>"
      ]
     },
     "metadata": {},
     "output_type": "display_data"
    }
   ],
   "source": [
    "# seaborn histogram\n",
    "plt.rcParams['font.sans-serif']=['SimHei']\n",
    "sns.displot(data=df, x='total' )\n",
    "plt.title('总成绩的直方图')\n",
    "plt.show()"
   ]
  },
  {
   "cell_type": "markdown",
   "id": "757f009e-732d-49b7-a446-ec532b86778e",
   "metadata": {},
   "source": [
    "#### 绘制平均成绩的优、良、中、及格和不及格的饼图"
   ]
  },
  {
   "cell_type": "code",
   "execution_count": 15,
   "id": "8150aaed-8d00-4f27-a216-ef04c12a213c",
   "metadata": {},
   "outputs": [
    {
     "data": {
      "image/png": "[encoded data removed]",
      "text/plain": [
       "<Figure size 640x480 with 1 Axes>"
      ]
     },
     "metadata": {},
     "output_type": "display_data"
    }
   ],
   "source": [
    "plt.rcParams['font.sans-serif']=['SimHei']\n",
    "\n",
    "counts = df.category.value_counts()\n",
    "names = counts.index\n",
    "percents = counts / counts.sum()\n",
    "lables = [f\"{n}\\n{c}, {p:.0%}\" for n, c, p in zip(names, counts, percents)]\n",
    "plt.pie(counts, labels=lables, labeldistance=0.5)\n",
    "plt.title('平均成绩饼图')\n",
    "plt.show()"
   ]
  },
  {
   "cell_type": "markdown",
   "id": "2ef6ec28-2566-48ef-b677-fa44a6f7ae6e",
   "metadata": {},
   "source": [
    "#### 绘制总成绩和数学成绩(math)的散点图"
   ]
  },
  {
   "cell_type": "code",
   "execution_count": 14,
   "id": "5dcbdd0b-7ef2-47ad-9f4e-9e35fc66db2e",
   "metadata": {},
   "outputs": [
    {
     "data": {
      "image/png": "[encoded data removed]",
      "text/plain": [
       "<Figure size 640x480 with 1 Axes>"
      ]
     },
     "metadata": {},
     "output_type": "display_data"
    }
   ],
   "source": [
    "plt.rcParams['font.sans-serif']=['SimHei']\n",
    "plt.scatter(x=df.math, y=df.total)\n",
    "plt.xlabel('数学成绩')\n",
    "plt.ylabel('总成绩')\n",
    "plt.title('总成绩和数学成绩散点图')\n",
    "plt.show()"
   ]
  },
  {
   "cell_type": "code",
   "execution_count": null,
   "id": "2e86b8ed-0348-4557-820f-d02782d9490b",
   "metadata": {},
   "outputs": [],
   "source": []
  }
 ],
 "metadata": {
  "kernelspec": {
   "display_name": "Python 3 (ipykernel)",
   "language": "python",
   "name": "python3"
  },
  "language_info": {
   "codemirror_mode": {
    "name": "ipython",
    "version": 3
   },
   "file_extension": ".py",
   "mimetype": "text/x-python",
   "name": "python",
   "nbconvert_exporter": "python",
   "pygments_lexer": "ipython3",
   "version": "3.9.13"
  }
 },
 "nbformat": 4,
 "nbformat_minor": 5
}
